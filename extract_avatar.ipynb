{
 "cells": [
  {
   "cell_type": "code",
   "execution_count": 1,
   "metadata": {},
   "outputs": [],
   "source": [
    "import os, zipfile"
   ]
  },
  {
   "cell_type": "code",
   "execution_count": 2,
   "metadata": {},
   "outputs": [],
   "source": [
    "path = 'D:\\\\anime_depot\\\\avatar_comics'\n",
    "files_to_ignore = ['Shells']"
   ]
  },
  {
   "cell_type": "code",
   "execution_count": 3,
   "metadata": {},
   "outputs": [],
   "source": [
    "def list_element(path):  \n",
    "    return list(map(lambda x : x.path, os.scandir(path)))"
   ]
  },
  {
   "cell_type": "code",
   "execution_count": 4,
   "metadata": {},
   "outputs": [],
   "source": [
    "def extract_file(z, targetpath_source, mode=1):\n",
    "    if 'VF' in z:\n",
    "        version = '\\\\vf'\n",
    "    elif 'VO'in z:\n",
    "        version = '\\\\vo'\n",
    "    else:\n",
    "        version = '\\\\autre'\n",
    "    \n",
    "    book = z.split('\\\\')\n",
    "    targetpath = targetpath_source+'\\\\extract'+version\n",
    "    if mode == 1:\n",
    "        targetpath =targetpath +'\\\\'+book[-1].split('.')[0]\n",
    "    elif mode == 2:\n",
    "        targetpath =targetpath +'\\\\'+book[-2]+'\\\\'+book[-1].split('.')[0]\n",
    "\n",
    "    with zipfile.ZipFile(z, 'r') as zip_ref:\n",
    "        zip_ref.extractall(targetpath)"
   ]
  },
  {
   "cell_type": "code",
   "execution_count": 5,
   "metadata": {},
   "outputs": [],
   "source": [
    "def extract_file_folder(x, targetpath_source):\n",
    "    scan = list_element(x)\n",
    "    list(map(lambda x: extract_file(x, targetpath_source, mode=2), scan))"
   ]
  },
  {
   "cell_type": "code",
   "execution_count": 6,
   "metadata": {},
   "outputs": [
    {
     "name": "stdout",
     "output_type": "stream",
     "text": [
      "The first file have to be a zipfile\n",
      "put Download.zip in a empty folder\n"
     ]
    }
   ],
   "source": [
    "# extraction du fichier Download.zip \n",
    "if list_element(path)[0].endswith('.zip'):\n",
    "    with zipfile.ZipFile(list_element[0], 'r') as zip_ref:\n",
    "        zip_ref.extractall(targetpath)\n",
    "else: \n",
    "    print('The first file have to be a zipfile')\n",
    "    print('put Download.zip in a empty folder')"
   ]
  },
  {
   "cell_type": "code",
   "execution_count": 7,
   "metadata": {},
   "outputs": [
    {
     "data": {
      "text/plain": [
       "[None, None, None, None, None, None, None, None]"
      ]
     },
     "execution_count": 7,
     "metadata": {},
     "output_type": "execute_result"
    }
   ],
   "source": [
    "# list les elements du dossier extrait\n",
    "element = list_element(path+\"\\\\download\")\n",
    "# selectionne que les fichiers zip \n",
    "listzip = list(filter(lambda x: x.endswith('.zip'), element))\n",
    "# suppression des élèments à ignorer\n",
    "listzip_to_extract = list(filter(lambda x: x not in [i for i in listzip if files_to_ignore[0] in i], listzip))\n",
    "# selection des autres élèments \n",
    "listzip_out = list(filter(lambda x: x not in listzip, element))\n",
    "\n",
    "# extraction fichiers zip\n",
    "list(map(lambda x: extract_file_folder(x, path), listzip_out))\n",
    "list(map(lambda x: extract_file(x, path), listzip_to_extract))"
   ]
  },
  {
   "cell_type": "code",
   "execution_count": null,
   "metadata": {},
   "outputs": [],
   "source": []
  }
 ],
 "metadata": {
  "kernelspec": {
   "display_name": "Python 3",
   "language": "python",
   "name": "python3"
  },
  "language_info": {
   "codemirror_mode": {
    "name": "ipython",
    "version": 3
   },
   "file_extension": ".py",
   "mimetype": "text/x-python",
   "name": "python",
   "nbconvert_exporter": "python",
   "pygments_lexer": "ipython3",
   "version": "3.7.6"
  }
 },
 "nbformat": 4,
 "nbformat_minor": 4
}
