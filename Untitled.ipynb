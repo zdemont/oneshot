{
 "cells": [
  {
   "cell_type": "markdown",
   "metadata": {},
   "source": [
    "# Projet BK"
   ]
  },
  {
   "cell_type": "code",
   "execution_count": 3,
   "metadata": {},
   "outputs": [],
   "source": [
    "burger = 'Steakhouse'\n",
    "frite = True\n",
    "boisson = 'eau'\n",
    "\n",
    "menu = True \n",
    "king_size = True"
   ]
  },
  {
   "cell_type": "code",
   "execution_count": 5,
   "metadata": {},
   "outputs": [],
   "source": [
    "recipes = {\n",
    "    'Steakhouse' : ['pain', 'steak', 'bacon', 'salade', 'tomate', 'oignon']\n",
    "}"
   ]
  },
  {
   "cell_type": "code",
   "execution_count": 14,
   "metadata": {},
   "outputs": [],
   "source": [
    "def change_ingredient(burger_recipe, ingredient_to_replace, ingredient_replace):\n",
    "    if ingredient_to_replace in burger_recipe:\n",
    "        for index, elm in enumerate(burger_recipe):\n",
    "            num = elm\n",
    "            \n",
    "    if ingredient_replace:\n",
    "        burger_recipe.appends(ingredient_replace)\n",
    "        \n",
    "    if ingredient_to_replace == \"bacon\":\n",
    "        burger_recipe = 'niquer ta mere deleveroo'\n",
    "    return burger_recipe"
   ]
  },
  {
   "cell_type": "code",
   "execution_count": 15,
   "metadata": {},
   "outputs": [
    {
     "data": {
      "text/plain": [
       "'niquer ta mere deleveroo'"
      ]
     },
     "execution_count": 15,
     "metadata": {},
     "output_type": "execute_result"
    }
   ],
   "source": [
    "change_ingredient(recipes['Steakhouse'], 'bacon', '')"
   ]
  },
  {
   "cell_type": "code",
   "execution_count": null,
   "metadata": {},
   "outputs": [],
   "source": []
  }
 ],
 "metadata": {
  "kernelspec": {
   "display_name": "Python 3",
   "language": "python",
   "name": "python3"
  },
  "language_info": {
   "codemirror_mode": {
    "name": "ipython",
    "version": 3
   },
   "file_extension": ".py",
   "mimetype": "text/x-python",
   "name": "python",
   "nbconvert_exporter": "python",
   "pygments_lexer": "ipython3",
   "version": "3.7.6"
  }
 },
 "nbformat": 4,
 "nbformat_minor": 4
}
